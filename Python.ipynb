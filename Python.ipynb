{
  "nbformat": 4,
  "nbformat_minor": 0,
  "metadata": {
    "colab": {
      "provenance": [],
      "authorship_tag": "ABX9TyNH/LLUYnWhaiWy6Ptm70NG",
      "include_colab_link": true
    },
    "kernelspec": {
      "name": "python3",
      "display_name": "Python 3"
    },
    "language_info": {
      "name": "python"
    }
  },
  "cells": [
    {
      "cell_type": "markdown",
      "metadata": {
        "id": "view-in-github",
        "colab_type": "text"
      },
      "source": [
        "<a href=\"https://colab.research.google.com/github/HyperBeast071/Python-Lab/blob/main/Python.ipynb\" target=\"_parent\"><img src=\"https://colab.research.google.com/assets/colab-badge.svg\" alt=\"Open In Colab\"/></a>"
      ]
    },
    {
      "cell_type": "markdown",
      "source": [
        "Use **BFS** and **DFS** for maze program\n"
      ],
      "metadata": {
        "id": "h2qjkU56C4x9"
      }
    },
    {
      "cell_type": "code",
      "source": [
        "from collections import deque\n",
        "\n",
        "def bfs(maze, start, end):\n",
        "    rows, cols = len(maze), len(maze[0])\n",
        "    queue = deque([start])\n",
        "    visited = set([start])\n",
        "    parent = {start: None}\n",
        "    nodes_explored = 0\n",
        "    while queue:\n",
        "        current = queue.popleft()\n",
        "        nodes_explored += 1\n",
        "\n",
        "        if current == end:\n",
        "            path = []\n",
        "            while current is not None:\n",
        "                path.append(current)\n",
        "                current = parent[current]\n",
        "            path.reverse()\n",
        "            return path, nodes_explored\n",
        "\n",
        "        for direction in [(0, 1), (1, 0), (0, -1), (-1, 0)]:\n",
        "            neighbor = (current[0] + direction[0], current[1] + direction[1])\n",
        "            if (0 <= neighbor[0] < rows and 0 <= neighbor[1] < cols and\n",
        "                neighbor not in visited and maze[neighbor[0]][neighbor[1]] == 1):\n",
        "                queue.append(neighbor)\n",
        "                visited.add(neighbor)\n",
        "                parent[neighbor] = current\n",
        "\n",
        "    return None, nodes_explored\n",
        "\n",
        "\n",
        "def dfs(maze, start, end):\n",
        "    rows, cols = len(maze), len(maze[0])\n",
        "    stack = [start]\n",
        "    visited = set()\n",
        "    path = []\n",
        "    nodes_explored = 0\n",
        "    def dfs_helper(current):\n",
        "        nonlocal nodes_explored\n",
        "        if current == end:\n",
        "            path.append(current)\n",
        "            return True\n",
        "\n",
        "        visited.add(current)\n",
        "        nodes_explored += 1\n",
        "\n",
        "        for direction in [(0, 1), (1, 0), (0, -1), (-1, 0)]:\n",
        "            neighbor = (current[0] + direction[0], current[1] + direction[1])\n",
        "            if (0 <= neighbor[0] < rows and 0 <= neighbor[1] < cols and\n",
        "                neighbor not in visited and maze[neighbor[0]][neighbor[1]] == 1):\n",
        "                if dfs_helper(neighbor):\n",
        "                    path.append(current)\n",
        "                    return True\n",
        "\n",
        "        return False\n",
        "\n",
        "    dfs_helper(start)\n",
        "    path.reverse()\n",
        "    return path, nodes_explored\n",
        "\n",
        "\n",
        "# Example usage:\n",
        "maze = [\n",
        "    [1, 0, 1, 1, 1],\n",
        "    [1, 0, 1, 0, 1],\n",
        "    [1, 1, 1, 0, 1],\n",
        "    [0, 0, 1, 1, 1],\n",
        "    [1, 1, 1, 0, 1]\n",
        "]\n",
        "\n",
        "start = (0, 0)\n",
        "end = (4, 4)\n",
        "\n",
        "bfs_path, bfs_nodes = bfs(maze, start, end)\n",
        "dfs_path, dfs_nodes = dfs(maze, start, end)\n",
        "\n",
        "print(\"BFS:\")\n",
        "print(\"Path:\", bfs_path)\n",
        "print(\"Nodes Explored:\", bfs_nodes)\n",
        "\n",
        "print(\"\\nDFS:\")\n",
        "print(\"Path:\", dfs_path)\n",
        "print(\"Nodes Explored:\", dfs_nodes)\n",
        "\n",
        "print(\"\\nComparison:\")\n",
        "print(\"BFS explored\", bfs_nodes, \"nodes.\")\n",
        "print(\"DFS explored\", dfs_nodes, \"nodes.\")\n"
      ],
      "metadata": {
        "colab": {
          "base_uri": "https://localhost:8080/"
        },
        "id": "IrQ3UKWqC5F9",
        "outputId": "a9425d6f-d27b-4ed6-8c5a-e5de19b52a44"
      },
      "execution_count": null,
      "outputs": [
        {
          "output_type": "stream",
          "name": "stdout",
          "text": [
            "BFS:\n",
            "Path: [(0, 0), (1, 0), (2, 0), (2, 1), (2, 2), (3, 2), (3, 3), (3, 4), (4, 4)]\n",
            "Nodes Explored: 14\n",
            "\n",
            "DFS:\n",
            "Path: [(0, 0), (1, 0), (2, 0), (2, 1), (2, 2), (3, 2), (3, 3), (3, 4), (4, 4)]\n",
            "Nodes Explored: 8\n",
            "\n",
            "Comparison:\n",
            "BFS explored 14 nodes.\n",
            "DFS explored 8 nodes.\n"
          ]
        }
      ]
    },
    {
      "cell_type": "markdown",
      "source": [
        " WAP for creating an array and display the min, max and display all the elements of the array.\n"
      ],
      "metadata": {
        "id": "plMbObqKGv4u"
      }
    },
    {
      "cell_type": "code",
      "source": [
        "def array_operations():\n",
        "    try:\n",
        "        n = int(input(\"Enter the size of the array: \"))\n",
        "        if n <= 0:\n",
        "            print(\"Invalid array size. Please enter a positive integer.\")\n",
        "            return\n",
        "\n",
        "        arr = []\n",
        "        print(\"Enter the elements of the array:\")\n",
        "        for i in range(n):\n",
        "            arr.append(int(input()))\n",
        "\n",
        "        if not arr:\n",
        "            print(\"Array is empty.\")\n",
        "            return\n",
        "\n",
        "        min_val = min(arr)\n",
        "        max_val = max(arr)\n",
        "\n",
        "        print(\"\\nElements of the array:\")\n",
        "        for element in arr:\n",
        "            print(element, end=\" \")\n",
        "        print(\"\\nMinimum element:\", min_val)\n",
        "        print(\"Maximum element:\", max_val)\n",
        "\n",
        "    except ValueError:\n",
        "        print(\"Invalid input. Please enter integer values for array elements.\")\n",
        "\n",
        "\n",
        "array_operations()"
      ],
      "metadata": {
        "id": "rwrQkcMcIbjS"
      },
      "execution_count": null,
      "outputs": []
    },
    {
      "cell_type": "markdown",
      "source": [
        "WAP to implement array/list & perform the following operations: insert(user input), display, sorting.\n"
      ],
      "metadata": {
        "id": "oWqEPRNKH0Y7"
      }
    },
    {
      "cell_type": "code",
      "source": [
        "def array_operations():\n",
        "    arr = []\n",
        "\n",
        "    while True:\n",
        "        print(\"\\nChoose an operation:\")\n",
        "        print(\"1. Insert element\")\n",
        "        print(\"2. Display elements\")\n",
        "        print(\"3. Sort elements\")\n",
        "        print(\"4. Exit\")\n",
        "\n",
        "        choice = input(\"Enter your choice: \")\n",
        "\n",
        "        if choice == '1':\n",
        "            try:\n",
        "                element = int(input(\"Enter the element to insert: \"))\n",
        "                arr.append(element)\n",
        "                print(f\"Element {element} inserted successfully.\")\n",
        "            except ValueError:\n",
        "                print(\"Invalid input. Please enter an integer.\")\n",
        "\n",
        "        elif choice == '2':\n",
        "            if not arr:\n",
        "                print(\"Array is empty.\")\n",
        "            else:\n",
        "                print(\"Array elements:\", arr)\n",
        "\n",
        "        elif choice == '3':\n",
        "            if not arr:\n",
        "                print(\"Array is empty.\")\n",
        "            else:\n",
        "                arr.sort()\n",
        "                print(\"Array sorted successfully.\")\n",
        "\n",
        "        elif choice == '4':\n",
        "            break\n",
        "\n",
        "        else:\n",
        "            print(\"Invalid choice. Please try again.\")\n",
        "if __name__ == \"__main__\":\n",
        "    array_operations()"
      ],
      "metadata": {
        "id": "zGCO0uHiH30u"
      },
      "execution_count": null,
      "outputs": []
    },
    {
      "cell_type": "markdown",
      "source": [
        "WAP to implement queue using list & perform the following operations: enqueue, dequeue, display.\n"
      ],
      "metadata": {
        "id": "6qJUVAePM1tJ"
      }
    },
    {
      "cell_type": "code",
      "source": [
        "def queue_operations():\n",
        "    queue = []\n",
        "\n",
        "    while True:\n",
        "        print(\"\\nChoose an operation:\")\n",
        "        print(\"1. Enqueue\")\n",
        "        print(\"2. Dequeue\")\n",
        "        print(\"3. Display\")\n",
        "        print(\"4. Exit\")\n",
        "\n",
        "        choice = input(\"Enter your choice: \")\n",
        "\n",
        "        if choice == '1':\n",
        "            try:\n",
        "                element = int(input(\"Enter the element to enqueue: \"))\n",
        "                queue.append(element)\n",
        "                print(f\"Element {element} enqueued successfully.\")\n",
        "            except ValueError:\n",
        "                print(\"Invalid input. Please enter an integer.\")\n",
        "\n",
        "        elif choice == '2':\n",
        "            if not queue:\n",
        "                print(\"Queue is empty.\")\n",
        "            else:\n",
        "                dequeued_element = queue.pop(0)\n",
        "                print(f\"Element {dequeued_element} dequeued successfully.\")\n",
        "\n",
        "        elif choice == '3':\n",
        "            if not queue:\n",
        "                print(\"Queue is empty.\")\n",
        "            else:\n",
        "                print(\"Queue elements:\", queue)\n",
        "\n",
        "        elif choice == '4':\n",
        "            break\n",
        "\n",
        "        else:\n",
        "            print(\"Invalid choice. Please try again.\")\n",
        "\n",
        "if __name__ == \"__main__\":\n",
        "    queue_operations()"
      ],
      "metadata": {
        "id": "6C1gMi3wM3qr"
      },
      "execution_count": null,
      "outputs": []
    },
    {
      "cell_type": "markdown",
      "source": [],
      "metadata": {
        "id": "vrbkBQCh9BYJ"
      }
    },
    {
      "cell_type": "code",
      "source": [
        "import networkx as nx\n",
        "import matplotlib.pyplot as plt\n",
        "from collections import deque\n",
        "import time\n",
        "\n",
        "def create_graph():\n",
        "    # Define a city map as a graph\n",
        "    G = nx.Graph()\n",
        "    edges = [\n",
        "        (1, 2), (1, 3), (2, 4), (3, 5),\n",
        "        (4, 6), (5, 6), (6, 7), (7, 8),\n",
        "        (3, 8), (8, 9)\n",
        "    ]\n",
        "    G.add_edges_from(edges)\n",
        "    return G\n",
        "\n",
        "def bidirectional_bfs(graph, start, target):\n",
        "    if start == target:\n",
        "        return [start]\n",
        "\n",
        "    front_queue = deque([start])\n",
        "    back_queue = deque([target])\n",
        "    front_visited = {start: None}\n",
        "    back_visited = {target: None}\n",
        "\n",
        "    while front_queue and back_queue:\n",
        "        # Expand from the front\n",
        "        if explore_layer(graph, front_queue, front_visited, back_visited):\n",
        "            return construct_path(front_visited, back_visited, start, target)\n",
        "\n",
        "        # Expand from the back\n",
        "        if explore_layer(graph, back_queue, back_visited, front_visited):\n",
        "            return construct_path(front_visited, back_visited, start, target)\n",
        "\n",
        "    return None\n",
        "\n",
        "def explore_layer(graph, queue, visited, other_visited):\n",
        "    current = queue.popleft()\n",
        "    for neighbor in graph.neighbors(current):\n",
        "        if neighbor not in visited:\n",
        "            visited[neighbor] = current\n",
        "            queue.append(neighbor)\n",
        "            if neighbor in other_visited:\n",
        "                return True\n",
        "    return False\n",
        "\n",
        "def construct_path(front_visited, back_visited, start, target):\n",
        "    path = []\n",
        "    # Trace from the meeting point back to the start\n",
        "    meeting_point = next(node for node in front_visited if node in back_visited)\n",
        "    node = meeting_point\n",
        "    while node is not None:\n",
        "        path.append(node)\n",
        "        node = front_visited[node]\n",
        "    path.reverse()\n",
        "    # Trace from the meeting point to the target\n",
        "    node = back_visited[meeting_point]\n",
        "    while node is not None:\n",
        "        path.append(node)\n",
        "        node = back_visited[node]\n",
        "    return path\n",
        "\n",
        "def bfs(graph, start, target):\n",
        "    queue = deque([start])\n",
        "    visited = {start: None}\n",
        "    while queue:\n",
        "        current = queue.popleft()\n",
        "        if current == target:\n",
        "            return reconstruct_path(visited, start, target)\n",
        "        for neighbor in graph.neighbors(current):\n",
        "            if neighbor not in visited:\n",
        "                visited[neighbor] = current\n",
        "                queue.append(neighbor)\n",
        "    return None\n",
        "\n",
        "def dfs(graph, start, target):\n",
        "    stack = [start]\n",
        "    visited = {start: None}\n",
        "    while stack:\n",
        "        current = stack.pop()\n",
        "        if current == target:\n",
        "            return reconstruct_path(visited, start, target)\n",
        "        for neighbor in graph.neighbors(current):\n",
        "            if neighbor not in visited:\n",
        "                visited[neighbor] = current\n",
        "                stack.append(neighbor)\n",
        "    return None\n",
        "\n",
        "def reconstruct_path(visited, start, target):\n",
        "    path = []\n",
        "    node = target\n",
        "    while node is not None:\n",
        "        path.append(node)\n",
        "        node = visited[node]\n",
        "    return path[::-1]\n",
        "\n",
        "def visualize_graph(graph, path=None):\n",
        "    pos = nx.spring_layout(graph)\n",
        "    nx.draw(graph, pos, with_labels=True, node_color=\"lightblue\", node_size=500, edge_color=\"gray\")\n",
        "    if path:\n",
        "        edges_in_path = [(path[i], path[i + 1]) for i in range(len(path) - 1)]\n",
        "        nx.draw_networkx_edges(graph, pos, edgelist=edges_in_path, edge_color=\"red\", width=2)\n",
        "    plt.show()\n",
        "\n",
        "# Main Execution\n",
        "G = create_graph()\n",
        "\n",
        "start, target = 1, 9\n",
        "\n",
        "# Bi-directional BFS\n",
        "start_time = time.time()\n",
        "bidirectional_path = bidirectional_bfs(G, start, target)\n",
        "bidirectional_time = time.time() - start_time\n",
        "\n",
        "# Standard BFS\n",
        "start_time = time.time()\n",
        "bfs_path = bfs(G, start, target)\n",
        "bfs_time = time.time() - start_time\n",
        "\n",
        "# DFS\n",
        "start_time = time.time()\n",
        "dfs_path = dfs(G, start, target)\n",
        "dfs_time = time.time() - start_time\n",
        "\n",
        "# Results\n",
        "print(\"Bi-directional BFS Path:\", bidirectional_path, f\"Time: {bidirectional_time:.6f} sec\")\n",
        "print(\"Standard BFS Path:\", bfs_path, f\"Time: {bfs_time:.6f} sec\")\n",
        "print(\"DFS Path:\", dfs_path, f\"Time: {dfs_time:.6f} sec\")\n",
        "\n",
        "# Visualization\n",
        "visualize_graph(G, path=bidirectional_path)\n"
      ],
      "metadata": {
        "colab": {
          "base_uri": "https://localhost:8080/",
          "height": 568
        },
        "id": "Uwf82Ife9B8r",
        "outputId": "dd2e6dbb-65ab-4b83-ff3d-8379bf9024ee"
      },
      "execution_count": null,
      "outputs": [
        {
          "output_type": "stream",
          "name": "stdout",
          "text": [
            "Bi-directional BFS Path: [1, 3, 8, 9] Time: 0.000126 sec\n",
            "Standard BFS Path: [1, 3, 8, 9] Time: 0.000105 sec\n",
            "DFS Path: [1, 3, 8, 9] Time: 0.000101 sec\n"
          ]
        },
        {
          "output_type": "display_data",
          "data": {
            "text/plain": [
              "<Figure size 640x480 with 1 Axes>"
            ],
            "image/png": "[encoded data removed]"
          },
          "metadata": {}
        }
      ]
    }
  ]
}